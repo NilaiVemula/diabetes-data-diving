{
 "metadata": {
  "language_info": {
   "codemirror_mode": {
    "name": "ipython",
    "version": 3
   },
   "file_extension": ".py",
   "mimetype": "text/x-python",
   "name": "python",
   "nbconvert_exporter": "python",
   "pygments_lexer": "ipython3",
   "version": "3.9.0-final"
  },
  "orig_nbformat": 2,
  "kernelspec": {
   "name": "python3",
   "display_name": "Python 3.9.0 64-bit ('env')",
   "metadata": {
    "interpreter": {
     "hash": "79b0b82a3ca184f76d9438dda753ff964efb04a6e8497addb7472b597cd6be3e"
    }
   }
  }
 },
 "nbformat": 4,
 "nbformat_minor": 2,
 "cells": [
  {
   "source": [
    "# Diabetes Data Diving\n",
    "\n",
    "Model Building"
   ],
   "cell_type": "markdown",
   "metadata": {}
  },
  {
   "source": [
    "## Importing Libraries"
   ],
   "cell_type": "markdown",
   "metadata": {}
  },
  {
   "cell_type": "code",
   "execution_count": 1,
   "metadata": {},
   "outputs": [],
   "source": [
    "# General data analysis libraries\n",
    "import pandas as pd\n",
    "import numpy as np\n",
    "import matplotlib.pyplot as plt\n",
    "import seaborn as sns\n",
    "\n",
    "\n",
    "# Preprocessing (Label Encoder)\n",
    "from sklearn.preprocessing import LabelEncoder, StandardScaler\n",
    "\n",
    "# Basic Models\n",
    "from sklearn.linear_model import LogisticRegression\n",
    "from sklearn.neighbors import KNeighborsClassifier\n",
    "from sklearn.naive_bayes import GaussianNB\n",
    "from sklearn.svm import SVC\n",
    "\n",
    "# Ensemble Models\n",
    "from sklearn.ensemble import AdaBoostClassifier\n",
    "from sklearn.ensemble import BaggingClassifier\n",
    "from sklearn.ensemble import GradientBoostingClassifier\n",
    "from sklearn.ensemble import RandomForestClassifier\n",
    "\n",
    "# Validation\n",
    "from sklearn.model_selection import train_test_split, cross_val_score, KFold\n",
    "\n",
    "# Model Parameter Tuning\n",
    "from sklearn.model_selection import GridSearchCV\n",
    "\n",
    "# ML Scoring Metrics\n",
    "from sklearn.metrics import accuracy_score, classification_report, confusion_matrix"
   ]
  },
  {
   "cell_type": "code",
   "execution_count": 2,
   "metadata": {},
   "outputs": [],
   "source": [
    "import random\n",
    "random.seed(0)\n",
    "np.random.seed(0)"
   ]
  },
  {
   "source": [
    "## Read in Data"
   ],
   "cell_type": "markdown",
   "metadata": {}
  },
  {
   "cell_type": "code",
   "execution_count": 3,
   "metadata": {},
   "outputs": [
    {
     "output_type": "execute_result",
     "data": {
      "text/plain": [
       "   Age Gender Polyuria Polydipsia sudden weight loss weakness Polyphagia  \\\n",
       "0   40   Male       No        Yes                 No      Yes         No   \n",
       "1   58   Male       No         No                 No      Yes         No   \n",
       "2   41   Male      Yes         No                 No      Yes        Yes   \n",
       "3   45   Male       No         No                Yes      Yes        Yes   \n",
       "4   60   Male      Yes        Yes                Yes      Yes        Yes   \n",
       "\n",
       "  Genital thrush visual blurring Itching Irritability delayed healing  \\\n",
       "0             No              No     Yes           No             Yes   \n",
       "1             No             Yes      No           No              No   \n",
       "2             No              No     Yes           No             Yes   \n",
       "3            Yes              No     Yes           No             Yes   \n",
       "4             No             Yes     Yes          Yes             Yes   \n",
       "\n",
       "  partial paresis muscle stiffness Alopecia Obesity     class  \n",
       "0              No              Yes      Yes     Yes  Positive  \n",
       "1             Yes               No      Yes      No  Positive  \n",
       "2              No              Yes      Yes      No  Positive  \n",
       "3              No               No       No      No  Positive  \n",
       "4             Yes              Yes      Yes     Yes  Positive  "
      ],
      "text/html": "<div>\n<style scoped>\n    .dataframe tbody tr th:only-of-type {\n        vertical-align: middle;\n    }\n\n    .dataframe tbody tr th {\n        vertical-align: top;\n    }\n\n    .dataframe thead th {\n        text-align: right;\n    }\n</style>\n<table border=\"1\" class=\"dataframe\">\n  <thead>\n    <tr style=\"text-align: right;\">\n      <th></th>\n      <th>Age</th>\n      <th>Gender</th>\n      <th>Polyuria</th>\n      <th>Polydipsia</th>\n      <th>sudden weight loss</th>\n      <th>weakness</th>\n      <th>Polyphagia</th>\n      <th>Genital thrush</th>\n      <th>visual blurring</th>\n      <th>Itching</th>\n      <th>Irritability</th>\n      <th>delayed healing</th>\n      <th>partial paresis</th>\n      <th>muscle stiffness</th>\n      <th>Alopecia</th>\n      <th>Obesity</th>\n      <th>class</th>\n    </tr>\n  </thead>\n  <tbody>\n    <tr>\n      <th>0</th>\n      <td>40</td>\n      <td>Male</td>\n      <td>No</td>\n      <td>Yes</td>\n      <td>No</td>\n      <td>Yes</td>\n      <td>No</td>\n      <td>No</td>\n      <td>No</td>\n      <td>Yes</td>\n      <td>No</td>\n      <td>Yes</td>\n      <td>No</td>\n      <td>Yes</td>\n      <td>Yes</td>\n      <td>Yes</td>\n      <td>Positive</td>\n    </tr>\n    <tr>\n      <th>1</th>\n      <td>58</td>\n      <td>Male</td>\n      <td>No</td>\n      <td>No</td>\n      <td>No</td>\n      <td>Yes</td>\n      <td>No</td>\n      <td>No</td>\n      <td>Yes</td>\n      <td>No</td>\n      <td>No</td>\n      <td>No</td>\n      <td>Yes</td>\n      <td>No</td>\n      <td>Yes</td>\n      <td>No</td>\n      <td>Positive</td>\n    </tr>\n    <tr>\n      <th>2</th>\n      <td>41</td>\n      <td>Male</td>\n      <td>Yes</td>\n      <td>No</td>\n      <td>No</td>\n      <td>Yes</td>\n      <td>Yes</td>\n      <td>No</td>\n      <td>No</td>\n      <td>Yes</td>\n      <td>No</td>\n      <td>Yes</td>\n      <td>No</td>\n      <td>Yes</td>\n      <td>Yes</td>\n      <td>No</td>\n      <td>Positive</td>\n    </tr>\n    <tr>\n      <th>3</th>\n      <td>45</td>\n      <td>Male</td>\n      <td>No</td>\n      <td>No</td>\n      <td>Yes</td>\n      <td>Yes</td>\n      <td>Yes</td>\n      <td>Yes</td>\n      <td>No</td>\n      <td>Yes</td>\n      <td>No</td>\n      <td>Yes</td>\n      <td>No</td>\n      <td>No</td>\n      <td>No</td>\n      <td>No</td>\n      <td>Positive</td>\n    </tr>\n    <tr>\n      <th>4</th>\n      <td>60</td>\n      <td>Male</td>\n      <td>Yes</td>\n      <td>Yes</td>\n      <td>Yes</td>\n      <td>Yes</td>\n      <td>Yes</td>\n      <td>No</td>\n      <td>Yes</td>\n      <td>Yes</td>\n      <td>Yes</td>\n      <td>Yes</td>\n      <td>Yes</td>\n      <td>Yes</td>\n      <td>Yes</td>\n      <td>Yes</td>\n      <td>Positive</td>\n    </tr>\n  </tbody>\n</table>\n</div>"
     },
     "metadata": {},
     "execution_count": 3
    }
   ],
   "source": [
    "df = pd.read_csv('../data/diabetes_data_upload.csv')\n",
    "df.head()"
   ]
  },
  {
   "source": [
    "## Clean up labels "
   ],
   "cell_type": "markdown",
   "metadata": {}
  },
  {
   "cell_type": "code",
   "execution_count": 4,
   "metadata": {},
   "outputs": [],
   "source": [
    "df.columns = df.columns.str.replace(\" \", \"_\")"
   ]
  },
  {
   "source": [
    "## Label Encoding\n",
    "\n",
    "Encode `Yes` or `No` as numeric values"
   ],
   "cell_type": "markdown",
   "metadata": {}
  },
  {
   "cell_type": "code",
   "execution_count": 5,
   "metadata": {},
   "outputs": [
    {
     "output_type": "execute_result",
     "data": {
      "text/plain": [
       "                    count       mean        std   min   25%   50%   75%   max\n",
       "Age                 520.0  48.028846  12.151466  16.0  39.0  47.5  57.0  90.0\n",
       "Gender              520.0   0.630769   0.483061   0.0   0.0   1.0   1.0   1.0\n",
       "Polyuria            520.0   0.496154   0.500467   0.0   0.0   0.0   1.0   1.0\n",
       "Polydipsia          520.0   0.448077   0.497776   0.0   0.0   0.0   1.0   1.0\n",
       "sudden_weight_loss  520.0   0.417308   0.493589   0.0   0.0   0.0   1.0   1.0\n",
       "weakness            520.0   0.586538   0.492928   0.0   0.0   1.0   1.0   1.0\n",
       "Polyphagia          520.0   0.455769   0.498519   0.0   0.0   0.0   1.0   1.0\n",
       "Genital_thrush      520.0   0.223077   0.416710   0.0   0.0   0.0   0.0   1.0\n",
       "visual_blurring     520.0   0.448077   0.497776   0.0   0.0   0.0   1.0   1.0\n",
       "Itching             520.0   0.486538   0.500300   0.0   0.0   0.0   1.0   1.0\n",
       "Irritability        520.0   0.242308   0.428892   0.0   0.0   0.0   0.0   1.0\n",
       "delayed_healing     520.0   0.459615   0.498846   0.0   0.0   0.0   1.0   1.0\n",
       "partial_paresis     520.0   0.430769   0.495661   0.0   0.0   0.0   1.0   1.0\n",
       "muscle_stiffness    520.0   0.375000   0.484589   0.0   0.0   0.0   1.0   1.0\n",
       "Alopecia            520.0   0.344231   0.475574   0.0   0.0   0.0   1.0   1.0\n",
       "Obesity             520.0   0.169231   0.375317   0.0   0.0   0.0   0.0   1.0\n",
       "class               520.0   0.615385   0.486973   0.0   0.0   1.0   1.0   1.0"
      ],
      "text/html": "<div>\n<style scoped>\n    .dataframe tbody tr th:only-of-type {\n        vertical-align: middle;\n    }\n\n    .dataframe tbody tr th {\n        vertical-align: top;\n    }\n\n    .dataframe thead th {\n        text-align: right;\n    }\n</style>\n<table border=\"1\" class=\"dataframe\">\n  <thead>\n    <tr style=\"text-align: right;\">\n      <th></th>\n      <th>count</th>\n      <th>mean</th>\n      <th>std</th>\n      <th>min</th>\n      <th>25%</th>\n      <th>50%</th>\n      <th>75%</th>\n      <th>max</th>\n    </tr>\n  </thead>\n  <tbody>\n    <tr>\n      <th>Age</th>\n      <td>520.0</td>\n      <td>48.028846</td>\n      <td>12.151466</td>\n      <td>16.0</td>\n      <td>39.0</td>\n      <td>47.5</td>\n      <td>57.0</td>\n      <td>90.0</td>\n    </tr>\n    <tr>\n      <th>Gender</th>\n      <td>520.0</td>\n      <td>0.630769</td>\n      <td>0.483061</td>\n      <td>0.0</td>\n      <td>0.0</td>\n      <td>1.0</td>\n      <td>1.0</td>\n      <td>1.0</td>\n    </tr>\n    <tr>\n      <th>Polyuria</th>\n      <td>520.0</td>\n      <td>0.496154</td>\n      <td>0.500467</td>\n      <td>0.0</td>\n      <td>0.0</td>\n      <td>0.0</td>\n      <td>1.0</td>\n      <td>1.0</td>\n    </tr>\n    <tr>\n      <th>Polydipsia</th>\n      <td>520.0</td>\n      <td>0.448077</td>\n      <td>0.497776</td>\n      <td>0.0</td>\n      <td>0.0</td>\n      <td>0.0</td>\n      <td>1.0</td>\n      <td>1.0</td>\n    </tr>\n    <tr>\n      <th>sudden_weight_loss</th>\n      <td>520.0</td>\n      <td>0.417308</td>\n      <td>0.493589</td>\n      <td>0.0</td>\n      <td>0.0</td>\n      <td>0.0</td>\n      <td>1.0</td>\n      <td>1.0</td>\n    </tr>\n    <tr>\n      <th>weakness</th>\n      <td>520.0</td>\n      <td>0.586538</td>\n      <td>0.492928</td>\n      <td>0.0</td>\n      <td>0.0</td>\n      <td>1.0</td>\n      <td>1.0</td>\n      <td>1.0</td>\n    </tr>\n    <tr>\n      <th>Polyphagia</th>\n      <td>520.0</td>\n      <td>0.455769</td>\n      <td>0.498519</td>\n      <td>0.0</td>\n      <td>0.0</td>\n      <td>0.0</td>\n      <td>1.0</td>\n      <td>1.0</td>\n    </tr>\n    <tr>\n      <th>Genital_thrush</th>\n      <td>520.0</td>\n      <td>0.223077</td>\n      <td>0.416710</td>\n      <td>0.0</td>\n      <td>0.0</td>\n      <td>0.0</td>\n      <td>0.0</td>\n      <td>1.0</td>\n    </tr>\n    <tr>\n      <th>visual_blurring</th>\n      <td>520.0</td>\n      <td>0.448077</td>\n      <td>0.497776</td>\n      <td>0.0</td>\n      <td>0.0</td>\n      <td>0.0</td>\n      <td>1.0</td>\n      <td>1.0</td>\n    </tr>\n    <tr>\n      <th>Itching</th>\n      <td>520.0</td>\n      <td>0.486538</td>\n      <td>0.500300</td>\n      <td>0.0</td>\n      <td>0.0</td>\n      <td>0.0</td>\n      <td>1.0</td>\n      <td>1.0</td>\n    </tr>\n    <tr>\n      <th>Irritability</th>\n      <td>520.0</td>\n      <td>0.242308</td>\n      <td>0.428892</td>\n      <td>0.0</td>\n      <td>0.0</td>\n      <td>0.0</td>\n      <td>0.0</td>\n      <td>1.0</td>\n    </tr>\n    <tr>\n      <th>delayed_healing</th>\n      <td>520.0</td>\n      <td>0.459615</td>\n      <td>0.498846</td>\n      <td>0.0</td>\n      <td>0.0</td>\n      <td>0.0</td>\n      <td>1.0</td>\n      <td>1.0</td>\n    </tr>\n    <tr>\n      <th>partial_paresis</th>\n      <td>520.0</td>\n      <td>0.430769</td>\n      <td>0.495661</td>\n      <td>0.0</td>\n      <td>0.0</td>\n      <td>0.0</td>\n      <td>1.0</td>\n      <td>1.0</td>\n    </tr>\n    <tr>\n      <th>muscle_stiffness</th>\n      <td>520.0</td>\n      <td>0.375000</td>\n      <td>0.484589</td>\n      <td>0.0</td>\n      <td>0.0</td>\n      <td>0.0</td>\n      <td>1.0</td>\n      <td>1.0</td>\n    </tr>\n    <tr>\n      <th>Alopecia</th>\n      <td>520.0</td>\n      <td>0.344231</td>\n      <td>0.475574</td>\n      <td>0.0</td>\n      <td>0.0</td>\n      <td>0.0</td>\n      <td>1.0</td>\n      <td>1.0</td>\n    </tr>\n    <tr>\n      <th>Obesity</th>\n      <td>520.0</td>\n      <td>0.169231</td>\n      <td>0.375317</td>\n      <td>0.0</td>\n      <td>0.0</td>\n      <td>0.0</td>\n      <td>0.0</td>\n      <td>1.0</td>\n    </tr>\n    <tr>\n      <th>class</th>\n      <td>520.0</td>\n      <td>0.615385</td>\n      <td>0.486973</td>\n      <td>0.0</td>\n      <td>0.0</td>\n      <td>1.0</td>\n      <td>1.0</td>\n      <td>1.0</td>\n    </tr>\n  </tbody>\n</table>\n</div>"
     },
     "metadata": {},
     "execution_count": 5
    }
   ],
   "source": [
    "for c in df.columns:\n",
    "    if df[c].dtype == 'object':\n",
    "        lbl = LabelEncoder()\n",
    "        lbl.fit(list(df[c].values)) \n",
    "        df[c] = lbl.transform(list(df[c].values))\n",
    "        \n",
    "df.describe().T"
   ]
  },
  {
   "source": [
    "## Split data into test/train"
   ],
   "cell_type": "markdown",
   "metadata": {}
  },
  {
   "cell_type": "code",
   "execution_count": 6,
   "metadata": {},
   "outputs": [
    {
     "output_type": "stream",
     "name": "stdout",
     "text": [
      "X_train:  (416, 16)\nX_test:  (104, 16)\ny_train:  (416,)\ny_test:  (104,)\n"
     ]
    }
   ],
   "source": [
    "X = df.drop('class', axis=1)\n",
    "y = df['class']\n",
    "\n",
    "X_train, X_test, y_train, y_test = train_test_split(X, y, test_size=0.2, random_state=0)\n",
    "print('X_train: ',X_train.shape)\n",
    "print('X_test: ',X_test.shape)\n",
    "print('y_train: ',y_train.shape)\n",
    "print('y_test: ',y_test.shape)"
   ]
  },
  {
   "source": [
    "## Train Models\n",
    "\n",
    "Train basic classification models and evaluate using 10-fold cross validation"
   ],
   "cell_type": "markdown",
   "metadata": {}
  },
  {
   "cell_type": "code",
   "execution_count": 7,
   "metadata": {},
   "outputs": [
    {
     "output_type": "stream",
     "name": "stdout",
     "text": [
      "Logistic Regression: \t 0.9184088269454124 +/- 0.04144262875410617\n",
      "K-Nearest Neighbors: \t 0.858362369337979 +/- 0.05795193742377788\n",
      "Naive Bayes: \t 0.8752613240418119 +/- 0.053223748943650846\n",
      "Support Vector Machine: \t 0.6154471544715446 +/- 0.061106435617389765\n"
     ]
    }
   ],
   "source": [
    "models = [\n",
    "    ( 'Logistic Regression' , LogisticRegression()),\n",
    "    ( 'K-Nearest Neighbors' , KNeighborsClassifier()),\n",
    "    ( 'Naive Bayes' , GaussianNB()),\n",
    "    ( 'Support Vector Machine' , SVC())\n",
    "]\n",
    "\n",
    "results = []\n",
    "names = []\n",
    "\n",
    "for name, model in models:\n",
    "    # training with 10-fold cross validation\n",
    "    Kfold = KFold(n_splits=10, random_state=3)\n",
    "    cv_results = cross_val_score(model, X_train, y_train, cv=Kfold, scoring= 'accuracy')\n",
    "    \n",
    "    # save results\n",
    "    results.append(cv_results)\n",
    "    names.append(name)\n",
    "\n",
    "    # print out results\n",
    "    print(f'{name}: \\t {cv_results.mean()} +/- {cv_results.std()}')"
   ]
  },
  {
   "source": [
    "## Training Ensemble Models"
   ],
   "cell_type": "markdown",
   "metadata": {}
  },
  {
   "cell_type": "code",
   "execution_count": 8,
   "metadata": {},
   "outputs": [
    {
     "output_type": "stream",
     "name": "stdout",
     "text": [
      "AdaBoost: \t 0.9256097560975609 +/- 0.04571373833510797\n",
      "Bagging: \t 0.9618466898954704 +/- 0.030464345822262418\n",
      "Gradient Boosted: \t 0.976074332171893 +/- 0.026190154281572776\n",
      "Random Forest: \t 0.9761324041811846 +/- 0.028172347166595148\n"
     ]
    }
   ],
   "source": [
    "models = [\n",
    "    ( 'AdaBoost' , AdaBoostClassifier()),\n",
    "    ( 'Bagging' , BaggingClassifier()),\n",
    "    ( 'Gradient Boosted' ,  GradientBoostingClassifier()),\n",
    "    ( 'Random Forest' , RandomForestClassifier())\n",
    "]\n",
    "\n",
    "results = []\n",
    "names = []\n",
    "\n",
    "for name, model in models:\n",
    "    # training with 10-fold cross validation\n",
    "    Kfold = KFold(n_splits=10, random_state=3)\n",
    "    cv_results = cross_val_score(model, X_train, y_train, cv=Kfold, scoring= 'accuracy')\n",
    "    \n",
    "    # save results\n",
    "    results.append(cv_results)\n",
    "    names.append(name)\n",
    "\n",
    "    # print out results\n",
    "    print(f'{name}: \\t {cv_results.mean()} +/- {cv_results.std()}')"
   ]
  },
  {
   "source": [
    "The best model is the random forest!"
   ],
   "cell_type": "markdown",
   "metadata": {}
  },
  {
   "source": [
    "## Parameter Tuning"
   ],
   "cell_type": "markdown",
   "metadata": {}
  },
  {
   "cell_type": "code",
   "execution_count": 9,
   "metadata": {},
   "outputs": [
    {
     "output_type": "stream",
     "name": "stdout",
     "text": [
      "Best Score: 0.9784552845528456 using these parameters: {'max_features': 'auto', 'n_estimators': 20}\n"
     ]
    }
   ],
   "source": [
    "# preprocess with standard scaler transformation\n",
    "scaler = StandardScaler().fit(X_train)\n",
    "X_train = scaler.transform(X_train)\n",
    "\n",
    "# find best parameters\n",
    "model = RandomForestClassifier()\n",
    "param_grid = { \n",
    "    'n_estimators': [10,20,50,100],\n",
    "    'max_features': ['auto', 'sqrt', 'log2']\n",
    "}\n",
    "\n",
    "kfold = KFold(n_splits=10, random_state=0)\n",
    "grid = GridSearchCV(estimator=model, param_grid=param_grid, scoring='accuracy', cv=kfold)\n",
    "grid_result = grid.fit(X_train, y_train)\n",
    "\n",
    "print(f'Best Score: {grid_result.best_score_} using these parameters: {grid_result.best_params_}')"
   ]
  },
  {
   "source": [
    "## Testing the best model on the test set"
   ],
   "cell_type": "markdown",
   "metadata": {}
  },
  {
   "cell_type": "code",
   "execution_count": 10,
   "metadata": {},
   "outputs": [
    {
     "output_type": "stream",
     "name": "stdout",
     "text": [
      "0.9807692307692307\n"
     ]
    }
   ],
   "source": [
    "RF = RandomForestClassifier(max_features=grid_result.best_params_['max_features'], n_estimators=grid_result.best_params_['n_estimators']).fit(X_train,y_train)\n",
    "y_pred = RF.predict(X_test)\n",
    "print(accuracy_score(y_test, y_pred))"
   ]
  },
  {
   "source": [
    "## Evaluating Error"
   ],
   "cell_type": "markdown",
   "metadata": {}
  },
  {
   "cell_type": "code",
   "execution_count": 11,
   "metadata": {},
   "outputs": [
    {
     "output_type": "display_data",
     "data": {
      "text/plain": "<Figure size 720x360 with 2 Axes>",
      "image/svg+xml": "<?xml version=\"1.0\" encoding=\"utf-8\" standalone=\"no\"?>\r\n<!DOCTYPE svg PUBLIC \"-//W3C//DTD SVG 1.1//EN\"\r\n  \"http://www.w3.org/Graphics/SVG/1.1/DTD/svg11.dtd\">\r\n<!-- Created with matplotlib (https://matplotlib.org/) -->\r\n<svg height=\"317.99625pt\" version=\"1.1\" viewBox=\"0 0 538.693125 317.99625\" width=\"538.693125pt\" xmlns=\"http://www.w3.org/2000/svg\" xmlns:xlink=\"http://www.w3.org/1999/xlink\">\r\n <metadata>\r\n  <rdf:RDF xmlns:cc=\"http://creativecommons.org/ns#\" xmlns:dc=\"http://purl.org/dc/elements/1.1/\" xmlns:rdf=\"http://www.w3.org/1999/02/22-rdf-syntax-ns#\">\r\n   <cc:Work>\r\n    <dc:type rdf:resource=\"http://purl.org/dc/dcmitype/StillImage\"/>\r\n    <dc:date>2020-11-30T17:56:55.254130</dc:date>\r\n    <dc:format>image/svg+xml</dc:format>\r\n    <dc:creator>\r\n     <cc:Agent>\r\n      <dc:title>Matplotlib v3.3.3, https://matplotlib.org/</dc:title>\r\n     </cc:Agent>\r\n    </dc:creator>\r\n   </cc:Work>\r\n  </rdf:RDF>\r\n </metadata>\r\n <defs>\r\n  <style type=\"text/css\">*{stroke-linecap:butt;stroke-linejoin:round;}</style>\r\n </defs>\r\n <g id=\"figure_1\">\r\n  <g id=\"patch_1\">\r\n   <path d=\"M 0 317.99625 \r\nL 538.693125 317.99625 \r\nL 538.693125 0 \r\nL 0 0 \r\nz\r\n\" style=\"fill:none;\"/>\r\n  </g>\r\n  <g id=\"axes_1\">\r\n   <g id=\"patch_2\">\r\n    <path d=\"M 23.878125 294.118125 \r\nL 470.278125 294.118125 \r\nL 470.278125 22.318125 \r\nL 23.878125 22.318125 \r\nz\r\n\" style=\"fill:#ffffff;\"/>\r\n   </g>\r\n   <g id=\"QuadMesh_1\">\r\n    <path clip-path=\"url(#p348bb3935c)\" d=\"M 23.878125 22.318125 \r\nL 247.078125 22.318125 \r\nL 247.078125 158.218125 \r\nL 23.878125 158.218125 \r\nL 23.878125 22.318125 \r\n\" style=\"fill:#ef5640;\"/>\r\n    <path clip-path=\"url(#p348bb3935c)\" d=\"M 247.078125 22.318125 \r\nL 470.278125 22.318125 \r\nL 470.278125 158.218125 \r\nL 247.078125 158.218125 \r\nL 247.078125 22.318125 \r\n\" style=\"fill:#03051a;\"/>\r\n    <path clip-path=\"url(#p348bb3935c)\" d=\"M 23.878125 158.218125 \r\nL 247.078125 158.218125 \r\nL 247.078125 294.118125 \r\nL 23.878125 294.118125 \r\nL 23.878125 158.218125 \r\n\" style=\"fill:#0d0a21;\"/>\r\n    <path clip-path=\"url(#p348bb3935c)\" d=\"M 247.078125 158.218125 \r\nL 470.278125 158.218125 \r\nL 470.278125 294.118125 \r\nL 247.078125 294.118125 \r\nL 247.078125 158.218125 \r\n\" style=\"fill:#faebdd;\"/>\r\n   </g>\r\n   <g id=\"matplotlib.axis_1\">\r\n    <g id=\"xtick_1\">\r\n     <g id=\"line2d_1\">\r\n      <defs>\r\n       <path d=\"M 0 0 \r\nL 0 3.5 \r\n\" id=\"m05f6d70356\" style=\"stroke:#000000;stroke-width:0.8;\"/>\r\n      </defs>\r\n      <g>\r\n       <use style=\"stroke:#000000;stroke-width:0.8;\" x=\"135.478125\" xlink:href=\"#m05f6d70356\" y=\"294.118125\"/>\r\n      </g>\r\n     </g>\r\n     <g id=\"text_1\">\r\n      <!-- 0 -->\r\n      <g transform=\"translate(132.296875 308.716563)scale(0.1 -0.1)\">\r\n       <defs>\r\n        <path d=\"M 31.78125 66.40625 \r\nQ 24.171875 66.40625 20.328125 58.90625 \r\nQ 16.5 51.421875 16.5 36.375 \r\nQ 16.5 21.390625 20.328125 13.890625 \r\nQ 24.171875 6.390625 31.78125 6.390625 \r\nQ 39.453125 6.390625 43.28125 13.890625 \r\nQ 47.125 21.390625 47.125 36.375 \r\nQ 47.125 51.421875 43.28125 58.90625 \r\nQ 39.453125 66.40625 31.78125 66.40625 \r\nz\r\nM 31.78125 74.21875 \r\nQ 44.046875 74.21875 50.515625 64.515625 \r\nQ 56.984375 54.828125 56.984375 36.375 \r\nQ 56.984375 17.96875 50.515625 8.265625 \r\nQ 44.046875 -1.421875 31.78125 -1.421875 \r\nQ 19.53125 -1.421875 13.0625 8.265625 \r\nQ 6.59375 17.96875 6.59375 36.375 \r\nQ 6.59375 54.828125 13.0625 64.515625 \r\nQ 19.53125 74.21875 31.78125 74.21875 \r\nz\r\n\" id=\"DejaVuSans-48\"/>\r\n       </defs>\r\n       <use xlink:href=\"#DejaVuSans-48\"/>\r\n      </g>\r\n     </g>\r\n    </g>\r\n    <g id=\"xtick_2\">\r\n     <g id=\"line2d_2\">\r\n      <g>\r\n       <use style=\"stroke:#000000;stroke-width:0.8;\" x=\"358.678125\" xlink:href=\"#m05f6d70356\" y=\"294.118125\"/>\r\n      </g>\r\n     </g>\r\n     <g id=\"text_2\">\r\n      <!-- 1 -->\r\n      <g transform=\"translate(355.496875 308.716563)scale(0.1 -0.1)\">\r\n       <defs>\r\n        <path d=\"M 12.40625 8.296875 \r\nL 28.515625 8.296875 \r\nL 28.515625 63.921875 \r\nL 10.984375 60.40625 \r\nL 10.984375 69.390625 \r\nL 28.421875 72.90625 \r\nL 38.28125 72.90625 \r\nL 38.28125 8.296875 \r\nL 54.390625 8.296875 \r\nL 54.390625 0 \r\nL 12.40625 0 \r\nz\r\n\" id=\"DejaVuSans-49\"/>\r\n       </defs>\r\n       <use xlink:href=\"#DejaVuSans-49\"/>\r\n      </g>\r\n     </g>\r\n    </g>\r\n   </g>\r\n   <g id=\"matplotlib.axis_2\">\r\n    <g id=\"ytick_1\">\r\n     <g id=\"line2d_3\">\r\n      <defs>\r\n       <path d=\"M 0 0 \r\nL -3.5 0 \r\n\" id=\"m0b30fe0191\" style=\"stroke:#000000;stroke-width:0.8;\"/>\r\n      </defs>\r\n      <g>\r\n       <use style=\"stroke:#000000;stroke-width:0.8;\" x=\"23.878125\" xlink:href=\"#m0b30fe0191\" y=\"90.268125\"/>\r\n      </g>\r\n     </g>\r\n     <g id=\"text_3\">\r\n      <!-- 0 -->\r\n      <g transform=\"translate(14.798437 92.831406)rotate(-90)scale(0.1 -0.1)\">\r\n       <use xlink:href=\"#DejaVuSans-48\"/>\r\n      </g>\r\n     </g>\r\n    </g>\r\n    <g id=\"ytick_2\">\r\n     <g id=\"line2d_4\">\r\n      <g>\r\n       <use style=\"stroke:#000000;stroke-width:0.8;\" x=\"23.878125\" xlink:href=\"#m0b30fe0191\" y=\"226.168125\"/>\r\n      </g>\r\n     </g>\r\n     <g id=\"text_4\">\r\n      <!-- 1 -->\r\n      <g transform=\"translate(14.798437 228.731406)rotate(-90)scale(0.1 -0.1)\">\r\n       <use xlink:href=\"#DejaVuSans-49\"/>\r\n      </g>\r\n     </g>\r\n    </g>\r\n   </g>\r\n   <g id=\"text_5\">\r\n    <!-- 40 -->\r\n    <g style=\"fill:#ffffff;\" transform=\"translate(129.115625 93.0275)scale(0.1 -0.1)\">\r\n     <defs>\r\n      <path d=\"M 37.796875 64.3125 \r\nL 12.890625 25.390625 \r\nL 37.796875 25.390625 \r\nz\r\nM 35.203125 72.90625 \r\nL 47.609375 72.90625 \r\nL 47.609375 25.390625 \r\nL 58.015625 25.390625 \r\nL 58.015625 17.1875 \r\nL 47.609375 17.1875 \r\nL 47.609375 0 \r\nL 37.796875 0 \r\nL 37.796875 17.1875 \r\nL 4.890625 17.1875 \r\nL 4.890625 26.703125 \r\nz\r\n\" id=\"DejaVuSans-52\"/>\r\n     </defs>\r\n     <use xlink:href=\"#DejaVuSans-52\"/>\r\n     <use x=\"63.623047\" xlink:href=\"#DejaVuSans-48\"/>\r\n    </g>\r\n   </g>\r\n   <g id=\"text_6\">\r\n    <!-- 0 -->\r\n    <g style=\"fill:#ffffff;\" transform=\"translate(355.496875 93.0275)scale(0.1 -0.1)\">\r\n     <use xlink:href=\"#DejaVuSans-48\"/>\r\n    </g>\r\n   </g>\r\n   <g id=\"text_7\">\r\n    <!-- 2 -->\r\n    <g style=\"fill:#ffffff;\" transform=\"translate(132.296875 228.9275)scale(0.1 -0.1)\">\r\n     <defs>\r\n      <path d=\"M 19.1875 8.296875 \r\nL 53.609375 8.296875 \r\nL 53.609375 0 \r\nL 7.328125 0 \r\nL 7.328125 8.296875 \r\nQ 12.9375 14.109375 22.625 23.890625 \r\nQ 32.328125 33.6875 34.8125 36.53125 \r\nQ 39.546875 41.84375 41.421875 45.53125 \r\nQ 43.3125 49.21875 43.3125 52.78125 \r\nQ 43.3125 58.59375 39.234375 62.25 \r\nQ 35.15625 65.921875 28.609375 65.921875 \r\nQ 23.96875 65.921875 18.8125 64.3125 \r\nQ 13.671875 62.703125 7.8125 59.421875 \r\nL 7.8125 69.390625 \r\nQ 13.765625 71.78125 18.9375 73 \r\nQ 24.125 74.21875 28.421875 74.21875 \r\nQ 39.75 74.21875 46.484375 68.546875 \r\nQ 53.21875 62.890625 53.21875 53.421875 \r\nQ 53.21875 48.921875 51.53125 44.890625 \r\nQ 49.859375 40.875 45.40625 35.40625 \r\nQ 44.1875 33.984375 37.640625 27.21875 \r\nQ 31.109375 20.453125 19.1875 8.296875 \r\nz\r\n\" id=\"DejaVuSans-50\"/>\r\n     </defs>\r\n     <use xlink:href=\"#DejaVuSans-50\"/>\r\n    </g>\r\n   </g>\r\n   <g id=\"text_8\">\r\n    <!-- 62 -->\r\n    <g style=\"fill:#262626;\" transform=\"translate(352.315625 228.9275)scale(0.1 -0.1)\">\r\n     <defs>\r\n      <path d=\"M 33.015625 40.375 \r\nQ 26.375 40.375 22.484375 35.828125 \r\nQ 18.609375 31.296875 18.609375 23.390625 \r\nQ 18.609375 15.53125 22.484375 10.953125 \r\nQ 26.375 6.390625 33.015625 6.390625 \r\nQ 39.65625 6.390625 43.53125 10.953125 \r\nQ 47.40625 15.53125 47.40625 23.390625 \r\nQ 47.40625 31.296875 43.53125 35.828125 \r\nQ 39.65625 40.375 33.015625 40.375 \r\nz\r\nM 52.59375 71.296875 \r\nL 52.59375 62.3125 \r\nQ 48.875 64.0625 45.09375 64.984375 \r\nQ 41.3125 65.921875 37.59375 65.921875 \r\nQ 27.828125 65.921875 22.671875 59.328125 \r\nQ 17.53125 52.734375 16.796875 39.40625 \r\nQ 19.671875 43.65625 24.015625 45.921875 \r\nQ 28.375 48.1875 33.59375 48.1875 \r\nQ 44.578125 48.1875 50.953125 41.515625 \r\nQ 57.328125 34.859375 57.328125 23.390625 \r\nQ 57.328125 12.15625 50.6875 5.359375 \r\nQ 44.046875 -1.421875 33.015625 -1.421875 \r\nQ 20.359375 -1.421875 13.671875 8.265625 \r\nQ 6.984375 17.96875 6.984375 36.375 \r\nQ 6.984375 53.65625 15.1875 63.9375 \r\nQ 23.390625 74.21875 37.203125 74.21875 \r\nQ 40.921875 74.21875 44.703125 73.484375 \r\nQ 48.484375 72.75 52.59375 71.296875 \r\nz\r\n\" id=\"DejaVuSans-54\"/>\r\n     </defs>\r\n     <use xlink:href=\"#DejaVuSans-54\"/>\r\n     <use x=\"63.623047\" xlink:href=\"#DejaVuSans-50\"/>\r\n    </g>\r\n   </g>\r\n   <g id=\"text_9\">\r\n    <!-- Confusion Matrix -->\r\n    <g transform=\"translate(189.516563 16.318125)scale(0.12 -0.12)\">\r\n     <defs>\r\n      <path d=\"M 67 4 \r\nQ 61.8125 1.3125 56.203125 -0.046875 \r\nQ 50.59375 -1.421875 44.484375 -1.421875 \r\nQ 26.265625 -1.421875 15.625 8.765625 \r\nQ 4.984375 18.953125 4.984375 36.375 \r\nQ 4.984375 53.859375 15.625 64.03125 \r\nQ 26.265625 74.21875 44.484375 74.21875 \r\nQ 50.59375 74.21875 56.203125 72.84375 \r\nQ 61.8125 71.484375 67 68.796875 \r\nL 67 53.71875 \r\nQ 61.765625 57.28125 56.6875 58.9375 \r\nQ 51.609375 60.59375 46 60.59375 \r\nQ 35.9375 60.59375 30.171875 54.140625 \r\nQ 24.421875 47.703125 24.421875 36.375 \r\nQ 24.421875 25.09375 30.171875 18.640625 \r\nQ 35.9375 12.203125 46 12.203125 \r\nQ 51.609375 12.203125 56.6875 13.859375 \r\nQ 61.765625 15.53125 67 19.09375 \r\nz\r\n\" id=\"DejaVuSans-Bold-67\"/>\r\n      <path d=\"M 34.421875 43.5 \r\nQ 28.609375 43.5 25.5625 39.328125 \r\nQ 22.515625 35.15625 22.515625 27.296875 \r\nQ 22.515625 19.4375 25.5625 15.25 \r\nQ 28.609375 11.078125 34.421875 11.078125 \r\nQ 40.140625 11.078125 43.15625 15.25 \r\nQ 46.1875 19.4375 46.1875 27.296875 \r\nQ 46.1875 35.15625 43.15625 39.328125 \r\nQ 40.140625 43.5 34.421875 43.5 \r\nz\r\nM 34.421875 56 \r\nQ 48.53125 56 56.46875 48.375 \r\nQ 64.40625 40.765625 64.40625 27.296875 \r\nQ 64.40625 13.8125 56.46875 6.1875 \r\nQ 48.53125 -1.421875 34.421875 -1.421875 \r\nQ 20.265625 -1.421875 12.28125 6.1875 \r\nQ 4.296875 13.8125 4.296875 27.296875 \r\nQ 4.296875 40.765625 12.28125 48.375 \r\nQ 20.265625 56 34.421875 56 \r\nz\r\n\" id=\"DejaVuSans-Bold-111\"/>\r\n      <path d=\"M 63.375 33.296875 \r\nL 63.375 0 \r\nL 45.796875 0 \r\nL 45.796875 5.421875 \r\nL 45.796875 25.484375 \r\nQ 45.796875 32.5625 45.484375 35.25 \r\nQ 45.171875 37.9375 44.390625 39.203125 \r\nQ 43.359375 40.921875 41.59375 41.875 \r\nQ 39.84375 42.828125 37.59375 42.828125 \r\nQ 32.125 42.828125 29 38.59375 \r\nQ 25.875 34.375 25.875 26.90625 \r\nL 25.875 0 \r\nL 8.40625 0 \r\nL 8.40625 54.6875 \r\nL 25.875 54.6875 \r\nL 25.875 46.6875 \r\nQ 29.828125 51.46875 34.265625 53.734375 \r\nQ 38.71875 56 44.09375 56 \r\nQ 53.5625 56 58.46875 50.1875 \r\nQ 63.375 44.390625 63.375 33.296875 \r\nz\r\n\" id=\"DejaVuSans-Bold-110\"/>\r\n      <path d=\"M 44.390625 75.984375 \r\nL 44.390625 64.5 \r\nL 34.71875 64.5 \r\nQ 31 64.5 29.53125 63.15625 \r\nQ 28.078125 61.8125 28.078125 58.5 \r\nL 28.078125 54.6875 \r\nL 43.015625 54.6875 \r\nL 43.015625 42.1875 \r\nL 28.078125 42.1875 \r\nL 28.078125 0 \r\nL 10.59375 0 \r\nL 10.59375 42.1875 \r\nL 1.90625 42.1875 \r\nL 1.90625 54.6875 \r\nL 10.59375 54.6875 \r\nL 10.59375 58.5 \r\nQ 10.59375 67.4375 15.578125 71.703125 \r\nQ 20.5625 75.984375 31 75.984375 \r\nz\r\n\" id=\"DejaVuSans-Bold-102\"/>\r\n      <path d=\"M 7.8125 21.296875 \r\nL 7.8125 54.6875 \r\nL 25.390625 54.6875 \r\nL 25.390625 49.21875 \r\nQ 25.390625 44.78125 25.34375 38.0625 \r\nQ 25.296875 31.34375 25.296875 29.109375 \r\nQ 25.296875 22.515625 25.640625 19.609375 \r\nQ 25.984375 16.703125 26.8125 15.375 \r\nQ 27.875 13.671875 29.609375 12.734375 \r\nQ 31.34375 11.8125 33.59375 11.8125 \r\nQ 39.0625 11.8125 42.1875 16.015625 \r\nQ 45.3125 20.21875 45.3125 27.6875 \r\nL 45.3125 54.6875 \r\nL 62.796875 54.6875 \r\nL 62.796875 0 \r\nL 45.3125 0 \r\nL 45.3125 7.90625 \r\nQ 41.359375 3.125 36.9375 0.84375 \r\nQ 32.515625 -1.421875 27.203125 -1.421875 \r\nQ 17.71875 -1.421875 12.765625 4.390625 \r\nQ 7.8125 10.203125 7.8125 21.296875 \r\nz\r\n\" id=\"DejaVuSans-Bold-117\"/>\r\n      <path d=\"M 51.125 52.984375 \r\nL 51.125 39.703125 \r\nQ 45.515625 42.046875 40.28125 43.21875 \r\nQ 35.0625 44.390625 30.421875 44.390625 \r\nQ 25.4375 44.390625 23.015625 43.140625 \r\nQ 20.609375 41.890625 20.609375 39.3125 \r\nQ 20.609375 37.203125 22.4375 36.078125 \r\nQ 24.265625 34.96875 29 34.421875 \r\nL 32.078125 33.984375 \r\nQ 45.515625 32.28125 50.140625 28.375 \r\nQ 54.78125 24.46875 54.78125 16.109375 \r\nQ 54.78125 7.375 48.328125 2.96875 \r\nQ 41.890625 -1.421875 29.109375 -1.421875 \r\nQ 23.6875 -1.421875 17.890625 -0.5625 \r\nQ 12.109375 0.296875 6 2 \r\nL 6 15.28125 \r\nQ 11.234375 12.75 16.71875 11.46875 \r\nQ 22.21875 10.203125 27.875 10.203125 \r\nQ 33.015625 10.203125 35.59375 11.609375 \r\nQ 38.1875 13.03125 38.1875 15.828125 \r\nQ 38.1875 18.171875 36.40625 19.3125 \r\nQ 34.625 20.453125 29.296875 21.09375 \r\nL 26.21875 21.484375 \r\nQ 14.546875 22.953125 9.859375 26.90625 \r\nQ 5.171875 30.859375 5.171875 38.921875 \r\nQ 5.171875 47.609375 11.125 51.796875 \r\nQ 17.09375 56 29.390625 56 \r\nQ 34.234375 56 39.546875 55.265625 \r\nQ 44.875 54.546875 51.125 52.984375 \r\nz\r\n\" id=\"DejaVuSans-Bold-115\"/>\r\n      <path d=\"M 8.40625 54.6875 \r\nL 25.875 54.6875 \r\nL 25.875 0 \r\nL 8.40625 0 \r\nz\r\nM 8.40625 75.984375 \r\nL 25.875 75.984375 \r\nL 25.875 61.71875 \r\nL 8.40625 61.71875 \r\nz\r\n\" id=\"DejaVuSans-Bold-105\"/>\r\n      <path id=\"DejaVuSans-Bold-32\"/>\r\n      <path d=\"M 9.1875 72.90625 \r\nL 33.109375 72.90625 \r\nL 49.703125 33.890625 \r\nL 66.40625 72.90625 \r\nL 90.28125 72.90625 \r\nL 90.28125 0 \r\nL 72.515625 0 \r\nL 72.515625 53.328125 \r\nL 55.71875 14.015625 \r\nL 43.796875 14.015625 \r\nL 27 53.328125 \r\nL 27 0 \r\nL 9.1875 0 \r\nz\r\n\" id=\"DejaVuSans-Bold-77\"/>\r\n      <path d=\"M 32.90625 24.609375 \r\nQ 27.4375 24.609375 24.671875 22.75 \r\nQ 21.921875 20.90625 21.921875 17.28125 \r\nQ 21.921875 13.96875 24.140625 12.078125 \r\nQ 26.375 10.203125 30.328125 10.203125 \r\nQ 35.25 10.203125 38.625 13.734375 \r\nQ 42 17.28125 42 22.609375 \r\nL 42 24.609375 \r\nz\r\nM 59.625 31.203125 \r\nL 59.625 0 \r\nL 42 0 \r\nL 42 8.109375 \r\nQ 38.484375 3.125 34.078125 0.84375 \r\nQ 29.6875 -1.421875 23.390625 -1.421875 \r\nQ 14.890625 -1.421875 9.59375 3.53125 \r\nQ 4.296875 8.5 4.296875 16.40625 \r\nQ 4.296875 26.03125 10.90625 30.515625 \r\nQ 17.53125 35.015625 31.6875 35.015625 \r\nL 42 35.015625 \r\nL 42 36.375 \r\nQ 42 40.53125 38.71875 42.453125 \r\nQ 35.453125 44.390625 28.515625 44.390625 \r\nQ 22.90625 44.390625 18.0625 43.265625 \r\nQ 13.234375 42.140625 9.078125 39.890625 \r\nL 9.078125 53.21875 \r\nQ 14.703125 54.59375 20.359375 55.296875 \r\nQ 26.03125 56 31.6875 56 \r\nQ 46.484375 56 53.046875 50.171875 \r\nQ 59.625 44.34375 59.625 31.203125 \r\nz\r\n\" id=\"DejaVuSans-Bold-97\"/>\r\n      <path d=\"M 27.484375 70.21875 \r\nL 27.484375 54.6875 \r\nL 45.515625 54.6875 \r\nL 45.515625 42.1875 \r\nL 27.484375 42.1875 \r\nL 27.484375 19 \r\nQ 27.484375 15.1875 29 13.84375 \r\nQ 30.515625 12.5 35.015625 12.5 \r\nL 44 12.5 \r\nL 44 0 \r\nL 29 0 \r\nQ 18.65625 0 14.328125 4.3125 \r\nQ 10.015625 8.640625 10.015625 19 \r\nL 10.015625 42.1875 \r\nL 1.3125 42.1875 \r\nL 1.3125 54.6875 \r\nL 10.015625 54.6875 \r\nL 10.015625 70.21875 \r\nz\r\n\" id=\"DejaVuSans-Bold-116\"/>\r\n      <path d=\"M 49.03125 39.796875 \r\nQ 46.734375 40.875 44.453125 41.375 \r\nQ 42.1875 41.890625 39.890625 41.890625 \r\nQ 33.15625 41.890625 29.515625 37.5625 \r\nQ 25.875 33.25 25.875 25.203125 \r\nL 25.875 0 \r\nL 8.40625 0 \r\nL 8.40625 54.6875 \r\nL 25.875 54.6875 \r\nL 25.875 45.703125 \r\nQ 29.25 51.078125 33.609375 53.53125 \r\nQ 37.984375 56 44.09375 56 \r\nQ 44.96875 56 45.984375 55.921875 \r\nQ 47.015625 55.859375 48.96875 55.609375 \r\nz\r\n\" id=\"DejaVuSans-Bold-114\"/>\r\n      <path d=\"M 22.21875 27.984375 \r\nL 2.484375 54.6875 \r\nL 21 54.6875 \r\nL 32.171875 38.484375 \r\nL 43.5 54.6875 \r\nL 62.015625 54.6875 \r\nL 42.28125 28.078125 \r\nL 62.984375 0 \r\nL 44.484375 0 \r\nL 32.171875 17.28125 \r\nL 20.015625 0 \r\nL 1.515625 0 \r\nz\r\n\" id=\"DejaVuSans-Bold-120\"/>\r\n     </defs>\r\n     <use xlink:href=\"#DejaVuSans-Bold-67\"/>\r\n     <use x=\"73.388672\" xlink:href=\"#DejaVuSans-Bold-111\"/>\r\n     <use x=\"142.089844\" xlink:href=\"#DejaVuSans-Bold-110\"/>\r\n     <use x=\"213.28125\" xlink:href=\"#DejaVuSans-Bold-102\"/>\r\n     <use x=\"256.787109\" xlink:href=\"#DejaVuSans-Bold-117\"/>\r\n     <use x=\"327.978516\" xlink:href=\"#DejaVuSans-Bold-115\"/>\r\n     <use x=\"387.5\" xlink:href=\"#DejaVuSans-Bold-105\"/>\r\n     <use x=\"421.777344\" xlink:href=\"#DejaVuSans-Bold-111\"/>\r\n     <use x=\"490.478516\" xlink:href=\"#DejaVuSans-Bold-110\"/>\r\n     <use x=\"561.669922\" xlink:href=\"#DejaVuSans-Bold-32\"/>\r\n     <use x=\"596.484375\" xlink:href=\"#DejaVuSans-Bold-77\"/>\r\n     <use x=\"695.996094\" xlink:href=\"#DejaVuSans-Bold-97\"/>\r\n     <use x=\"763.476562\" xlink:href=\"#DejaVuSans-Bold-116\"/>\r\n     <use x=\"811.279297\" xlink:href=\"#DejaVuSans-Bold-114\"/>\r\n     <use x=\"860.595703\" xlink:href=\"#DejaVuSans-Bold-105\"/>\r\n     <use x=\"894.873047\" xlink:href=\"#DejaVuSans-Bold-120\"/>\r\n    </g>\r\n   </g>\r\n  </g>\r\n  <g id=\"axes_2\">\r\n   <g id=\"patch_3\">\r\n    <path clip-path=\"url(#pbc8459fa9a)\" d=\"M 498.178125 294.118125 \r\nL 498.178125 293.056406 \r\nL 498.178125 23.379844 \r\nL 498.178125 22.318125 \r\nL 511.768125 22.318125 \r\nL 511.768125 23.379844 \r\nL 511.768125 293.056406 \r\nL 511.768125 294.118125 \r\nz\r\n\" style=\"fill:#ffffff;stroke:#ffffff;stroke-linejoin:miter;stroke-width:0.01;\"/>\r\n   </g>\r\n   <image height=\"272\" id=\"image80418b88ed\" transform=\"scale(1 -1)translate(0 -272)\" width=\"14\" x=\"498\" xlink:href=\"data:image/png;base64,\r\niVBORw0KGgoAAAANSUhEUgAAAA4AAAEQCAYAAACA40WOAAABaUlEQVR4nO2bUQ7CMAxD0zIuwf3vOU4ASC+ajdf237KdONkY2zier7PAmQRUVXWMMdTAUjNOuVTOiD0GVTXHY04A+AYwJIczMpuOPm7Gv2KMCbnjUn7/qjakItgO+Q9G7pGdqEGWF8eRHHYM0xEkVb+sHMURM3ZurTFQHoCYdnQYIdBRHAhcQip6RmYZ5EZxMFC/OigQ9tFSVQpcwOOgHuVSGxsgqI8GqYySSzUs5JN6pIxB7RiYkRF6LuX6AGBGCoSZcxQHXnWOSYGNH9eUUe8RBwAyNgY5xmNDKtzIDY+cUV8chGtITWqHWmrjcTf3SBn1kZN7LINHNZCGbhFG9eNuuVTOWJRxDalqIP4bUS+1JnwHKaePjQ1AX9AyRE7eR0dx7u9x9/Hz6QyyPnJBfaSvoeZI5UB9cu5fnM49ud7jZryAMUjqAoxjPBBwD/JFjKwdSR5p5HYArmA0DDL++mmBduyqfjk4q29VZy3dyYHrbgAAAABJRU5ErkJggg==\" y=\"-21\"/>\r\n   <g id=\"matplotlib.axis_3\"/>\r\n   <g id=\"matplotlib.axis_4\">\r\n    <g id=\"ytick_3\">\r\n     <g id=\"line2d_5\">\r\n      <defs>\r\n       <path d=\"M 0 0 \r\nL 3.5 0 \r\n\" id=\"m7d4a270e14\" style=\"stroke:#000000;stroke-width:0.8;\"/>\r\n      </defs>\r\n      <g>\r\n       <use style=\"stroke:#000000;stroke-width:0.8;\" x=\"511.768125\" xlink:href=\"#m7d4a270e14\" y=\"294.118125\"/>\r\n      </g>\r\n     </g>\r\n     <g id=\"text_10\">\r\n      <!-- 0 -->\r\n      <g transform=\"translate(518.768125 297.917344)scale(0.1 -0.1)\">\r\n       <use xlink:href=\"#DejaVuSans-48\"/>\r\n      </g>\r\n     </g>\r\n    </g>\r\n    <g id=\"ytick_4\">\r\n     <g id=\"line2d_6\">\r\n      <g>\r\n       <use style=\"stroke:#000000;stroke-width:0.8;\" x=\"511.768125\" xlink:href=\"#m7d4a270e14\" y=\"250.279415\"/>\r\n      </g>\r\n     </g>\r\n     <g id=\"text_11\">\r\n      <!-- 10 -->\r\n      <g transform=\"translate(518.768125 254.078634)scale(0.1 -0.1)\">\r\n       <use xlink:href=\"#DejaVuSans-49\"/>\r\n       <use x=\"63.623047\" xlink:href=\"#DejaVuSans-48\"/>\r\n      </g>\r\n     </g>\r\n    </g>\r\n    <g id=\"ytick_5\">\r\n     <g id=\"line2d_7\">\r\n      <g>\r\n       <use style=\"stroke:#000000;stroke-width:0.8;\" x=\"511.768125\" xlink:href=\"#m7d4a270e14\" y=\"206.440706\"/>\r\n      </g>\r\n     </g>\r\n     <g id=\"text_12\">\r\n      <!-- 20 -->\r\n      <g transform=\"translate(518.768125 210.239924)scale(0.1 -0.1)\">\r\n       <use xlink:href=\"#DejaVuSans-50\"/>\r\n       <use x=\"63.623047\" xlink:href=\"#DejaVuSans-48\"/>\r\n      </g>\r\n     </g>\r\n    </g>\r\n    <g id=\"ytick_6\">\r\n     <g id=\"line2d_8\">\r\n      <g>\r\n       <use style=\"stroke:#000000;stroke-width:0.8;\" x=\"511.768125\" xlink:href=\"#m7d4a270e14\" y=\"162.601996\"/>\r\n      </g>\r\n     </g>\r\n     <g id=\"text_13\">\r\n      <!-- 30 -->\r\n      <g transform=\"translate(518.768125 166.401215)scale(0.1 -0.1)\">\r\n       <defs>\r\n        <path d=\"M 40.578125 39.3125 \r\nQ 47.65625 37.796875 51.625 33 \r\nQ 55.609375 28.21875 55.609375 21.1875 \r\nQ 55.609375 10.40625 48.1875 4.484375 \r\nQ 40.765625 -1.421875 27.09375 -1.421875 \r\nQ 22.515625 -1.421875 17.65625 -0.515625 \r\nQ 12.796875 0.390625 7.625 2.203125 \r\nL 7.625 11.71875 \r\nQ 11.71875 9.328125 16.59375 8.109375 \r\nQ 21.484375 6.890625 26.8125 6.890625 \r\nQ 36.078125 6.890625 40.9375 10.546875 \r\nQ 45.796875 14.203125 45.796875 21.1875 \r\nQ 45.796875 27.640625 41.28125 31.265625 \r\nQ 36.765625 34.90625 28.71875 34.90625 \r\nL 20.21875 34.90625 \r\nL 20.21875 43.015625 \r\nL 29.109375 43.015625 \r\nQ 36.375 43.015625 40.234375 45.921875 \r\nQ 44.09375 48.828125 44.09375 54.296875 \r\nQ 44.09375 59.90625 40.109375 62.90625 \r\nQ 36.140625 65.921875 28.71875 65.921875 \r\nQ 24.65625 65.921875 20.015625 65.03125 \r\nQ 15.375 64.15625 9.8125 62.3125 \r\nL 9.8125 71.09375 \r\nQ 15.4375 72.65625 20.34375 73.4375 \r\nQ 25.25 74.21875 29.59375 74.21875 \r\nQ 40.828125 74.21875 47.359375 69.109375 \r\nQ 53.90625 64.015625 53.90625 55.328125 \r\nQ 53.90625 49.265625 50.4375 45.09375 \r\nQ 46.96875 40.921875 40.578125 39.3125 \r\nz\r\n\" id=\"DejaVuSans-51\"/>\r\n       </defs>\r\n       <use xlink:href=\"#DejaVuSans-51\"/>\r\n       <use x=\"63.623047\" xlink:href=\"#DejaVuSans-48\"/>\r\n      </g>\r\n     </g>\r\n    </g>\r\n    <g id=\"ytick_7\">\r\n     <g id=\"line2d_9\">\r\n      <g>\r\n       <use style=\"stroke:#000000;stroke-width:0.8;\" x=\"511.768125\" xlink:href=\"#m7d4a270e14\" y=\"118.763286\"/>\r\n      </g>\r\n     </g>\r\n     <g id=\"text_14\">\r\n      <!-- 40 -->\r\n      <g transform=\"translate(518.768125 122.562505)scale(0.1 -0.1)\">\r\n       <use xlink:href=\"#DejaVuSans-52\"/>\r\n       <use x=\"63.623047\" xlink:href=\"#DejaVuSans-48\"/>\r\n      </g>\r\n     </g>\r\n    </g>\r\n    <g id=\"ytick_8\">\r\n     <g id=\"line2d_10\">\r\n      <g>\r\n       <use style=\"stroke:#000000;stroke-width:0.8;\" x=\"511.768125\" xlink:href=\"#m7d4a270e14\" y=\"74.924577\"/>\r\n      </g>\r\n     </g>\r\n     <g id=\"text_15\">\r\n      <!-- 50 -->\r\n      <g transform=\"translate(518.768125 78.723795)scale(0.1 -0.1)\">\r\n       <defs>\r\n        <path d=\"M 10.796875 72.90625 \r\nL 49.515625 72.90625 \r\nL 49.515625 64.59375 \r\nL 19.828125 64.59375 \r\nL 19.828125 46.734375 \r\nQ 21.96875 47.46875 24.109375 47.828125 \r\nQ 26.265625 48.1875 28.421875 48.1875 \r\nQ 40.625 48.1875 47.75 41.5 \r\nQ 54.890625 34.8125 54.890625 23.390625 \r\nQ 54.890625 11.625 47.5625 5.09375 \r\nQ 40.234375 -1.421875 26.90625 -1.421875 \r\nQ 22.3125 -1.421875 17.546875 -0.640625 \r\nQ 12.796875 0.140625 7.71875 1.703125 \r\nL 7.71875 11.625 \r\nQ 12.109375 9.234375 16.796875 8.0625 \r\nQ 21.484375 6.890625 26.703125 6.890625 \r\nQ 35.15625 6.890625 40.078125 11.328125 \r\nQ 45.015625 15.765625 45.015625 23.390625 \r\nQ 45.015625 31 40.078125 35.4375 \r\nQ 35.15625 39.890625 26.703125 39.890625 \r\nQ 22.75 39.890625 18.8125 39.015625 \r\nQ 14.890625 38.140625 10.796875 36.28125 \r\nz\r\n\" id=\"DejaVuSans-53\"/>\r\n       </defs>\r\n       <use xlink:href=\"#DejaVuSans-53\"/>\r\n       <use x=\"63.623047\" xlink:href=\"#DejaVuSans-48\"/>\r\n      </g>\r\n     </g>\r\n    </g>\r\n    <g id=\"ytick_9\">\r\n     <g id=\"line2d_11\">\r\n      <g>\r\n       <use style=\"stroke:#000000;stroke-width:0.8;\" x=\"511.768125\" xlink:href=\"#m7d4a270e14\" y=\"31.085867\"/>\r\n      </g>\r\n     </g>\r\n     <g id=\"text_16\">\r\n      <!-- 60 -->\r\n      <g transform=\"translate(518.768125 34.885086)scale(0.1 -0.1)\">\r\n       <use xlink:href=\"#DejaVuSans-54\"/>\r\n       <use x=\"63.623047\" xlink:href=\"#DejaVuSans-48\"/>\r\n      </g>\r\n     </g>\r\n    </g>\r\n   </g>\r\n   <g id=\"patch_4\">\r\n    <path d=\"M 498.178125 294.118125 \r\nL 498.178125 293.056406 \r\nL 498.178125 23.379844 \r\nL 498.178125 22.318125 \r\nL 511.768125 22.318125 \r\nL 511.768125 23.379844 \r\nL 511.768125 293.056406 \r\nL 511.768125 294.118125 \r\nz\r\n\" style=\"fill:none;\"/>\r\n   </g>\r\n  </g>\r\n </g>\r\n <defs>\r\n  <clipPath id=\"p348bb3935c\">\r\n   <rect height=\"271.8\" width=\"446.4\" x=\"23.878125\" y=\"22.318125\"/>\r\n  </clipPath>\r\n  <clipPath id=\"pbc8459fa9a\">\r\n   <rect height=\"271.8\" width=\"13.59\" x=\"498.178125\" y=\"22.318125\"/>\r\n  </clipPath>\r\n </defs>\r\n</svg>\r\n",
      "image/png": "[encoded data removed]"
     },
     "metadata": {
      "needs_background": "light"
     }
    }
   ],
   "source": [
    "# Confusion Matrix\n",
    "\n",
    "plt.figure(figsize=(10,5))\n",
    "sns.heatmap(confusion_matrix(y_test, y_pred), annot=True)\n",
    "plt.title(\"Confusion Matrix\",fontweight=\"bold\")\n",
    "plt.show()"
   ]
  },
  {
   "cell_type": "code",
   "execution_count": 12,
   "metadata": {},
   "outputs": [
    {
     "output_type": "stream",
     "name": "stdout",
     "text": [
      "              precision    recall  f1-score   support\n\n           0       0.95      1.00      0.98        40\n           1       1.00      0.97      0.98        64\n\n    accuracy                           0.98       104\n   macro avg       0.98      0.98      0.98       104\nweighted avg       0.98      0.98      0.98       104\n\n"
     ]
    }
   ],
   "source": [
    "# Classification Report\n",
    "\n",
    "print(classification_report(y_test,y_pred))"
   ]
  },
  {
   "cell_type": "code",
   "execution_count": null,
   "metadata": {},
   "outputs": [],
   "source": []
  }
 ]
}